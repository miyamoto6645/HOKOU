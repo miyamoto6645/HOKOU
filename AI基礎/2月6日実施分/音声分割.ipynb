{
  "nbformat": 4,
  "nbformat_minor": 0,
  "metadata": {
    "colab": {
      "name": "音声分割.ipynb",
      "provenance": [],
      "collapsed_sections": []
    },
    "kernelspec": {
      "display_name": "Python 3",
      "name": "python3"
    }
  },
  "cells": [
    {
      "cell_type": "markdown",
      "metadata": {
        "id": "K6mcSc0mmp3i"
      },
      "source": [
        "# スプリーターのインストール"
      ]
    },
    {
      "cell_type": "markdown",
      "metadata": {
        "id": "APdmXJY2FExq"
      },
      "source": [
        "FFmpegは動画ファイルや音声ファイルの変換・圧縮が可能なフリーソフトウェアです。. 元々はUnix系のオペレーションシステムで作られたので、GUI（グラフィカルユーザインタフェース）のような使い勝手の良い画面などは無く、コマンドラインで操作するツールになっています。. 簡単に言うとコードを打って操作するツールです。"
      ]
    },
    {
      "cell_type": "code",
      "metadata": {
        "id": "f8Brdfh6mzEz"
      },
      "source": [
        "!apt install ffmpeg"
      ],
      "execution_count": null,
      "outputs": []
    },
    {
      "cell_type": "markdown",
      "metadata": {
        "id": "QGaQkadKFGlx"
      },
      "source": [
        "スプリーターは音楽データを機械学習で分離してくれます"
      ]
    },
    {
      "cell_type": "code",
      "metadata": {
        "id": "V_6Ram1lmc1F"
      },
      "source": [
        "pip install spleeter"
      ],
      "execution_count": null,
      "outputs": []
    },
    {
      "cell_type": "markdown",
      "metadata": {
        "id": "I1tEjoZsFbGh"
      },
      "source": [
        "IPythonは、Pythonの対話型インタプリタを強力に(本当に強力に)拡張したものです。\n",
        "\n",
        "といってもただの拡張に留まらず、大きく分けると以下の機能を持っています。\n",
        "\n",
        "\n",
        "\n",
        "拡張された対話型シェル\n",
        "\n",
        "分離型プロセス間通信モデル\n",
        "\n",
        "並列コンピューティング機構\n",
        "\n",
        "\n",
        "IPython.displayは「画像や動画」を簡単に表示できます。"
      ]
    },
    {
      "cell_type": "code",
      "metadata": {
        "id": "W0LktyMypXqE"
      },
      "source": [
        "from IPython.display import Audio"
      ],
      "execution_count": null,
      "outputs": []
    },
    {
      "cell_type": "markdown",
      "metadata": {
        "id": "afbcUSken16L"
      },
      "source": [
        "# コマンドラインとは別に "
      ]
    },
    {
      "cell_type": "markdown",
      "metadata": {
        "id": "QOCQXHfWGxkq"
      },
      "source": [
        "音楽ファイルを指定されたURLからファイルをダウンロードします。"
      ]
    },
    {
      "cell_type": "code",
      "metadata": {
        "id": "O1kQaoJSoAD0"
      },
      "source": [
        "!wget https://github.com/deezer/spleeter/raw/master/audio_example.mp3"
      ],
      "execution_count": null,
      "outputs": []
    },
    {
      "cell_type": "markdown",
      "metadata": {
        "id": "S59b4NumG59J"
      },
      "source": [
        "音楽ファイルを流す"
      ]
    },
    {
      "cell_type": "code",
      "metadata": {
        "id": "ibG6uF55p4lH"
      },
      "source": [
        "Audio('audio_example.mp3')"
      ],
      "execution_count": null,
      "outputs": []
    },
    {
      "cell_type": "markdown",
      "metadata": {
        "id": "7w1x7dAkG-FI"
      },
      "source": [
        "音楽データを分割します"
      ]
    },
    {
      "cell_type": "code",
      "metadata": {
        "id": "dGL-k5xxoKbu"
      },
      "source": [
        "!spleeter separate -o output/ audio_example.mp3"
      ],
      "execution_count": null,
      "outputs": []
    },
    {
      "cell_type": "markdown",
      "metadata": {
        "id": "DU2Akuy8Hnjh"
      },
      "source": [
        "分割結果を表示します"
      ]
    },
    {
      "cell_type": "code",
      "metadata": {
        "id": "IDuPWcAMoZP_"
      },
      "source": [
        "!ls output/audio_example"
      ],
      "execution_count": null,
      "outputs": []
    },
    {
      "cell_type": "markdown",
      "metadata": {
        "id": "BoiZZ2VIHrZh"
      },
      "source": [
        "それぞれの音楽を流してみます"
      ]
    },
    {
      "cell_type": "code",
      "metadata": {
        "id": "e7CHpyiloxrk"
      },
      "source": [
        "Audio('output/audio_example/vocals.wav')"
      ],
      "execution_count": null,
      "outputs": []
    },
    {
      "cell_type": "code",
      "metadata": {
        "id": "ibXd-WCTpT0w"
      },
      "source": [
        "Audio('output/audio_example/accompaniment.wav')"
      ],
      "execution_count": null,
      "outputs": []
    }
  ]
}