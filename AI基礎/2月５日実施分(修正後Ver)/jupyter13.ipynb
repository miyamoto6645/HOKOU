{
 "cells": [
  {
   "cell_type": "code",
   "execution_count": null,
   "id": "7a0bfdc6",
   "metadata": {},
   "outputs": [],
   "source": [
    "{\"nbformat\":4,\"nbformat_minor\":0,\"metadata\":{\"colab\":{\"name\":\"AIについてまとめ.ipynb\",\"provenance\":[],\"collapsed_sections\":[],\"authorship_tag\":\"ABX9TyOmngyJSXeTimza9wMkciQF\"},\"kernelspec\":{\"name\":\"python3\",\"display_name\":\"Python 3\"},\"language_info\":{\"name\":\"python\"}},\"cells\":[{\"cell_type\":\"markdown\",\"metadata\":{\"id\":\"mq-ruGvG2MNn\"},\"source\":[\"# AIについての振り返り\\n\",\"\\n\"]},{\"cell_type\":\"markdown\",\"metadata\":{\"id\":\"7LFmABX43DwG\"},\"source\":[\"AIとは\\n\",\"\\n\",\"　AIとは人工知能(Artificial Intelligence)の略称\\n\",\"\\n\",\"　「人間の知能をコンピュータを用いて人工的に再現したもの」という意味\\n\",\"\\n\",\"　大量のデータから規則性やルールなどを学習し、与えられた課題に対して推論や回答、情報の合成などを行う\\n\",\"\\n\",\"　機械学習（ML：Machine Learning）を基礎とするものが主流\\n\",\"　\"]},{\"cell_type\":\"markdown\",\"metadata\":{\"id\":\"KZBl9ja63IM-\"},\"source\":[\"機械学習とは\\n\",\"\\n\",\"　機械学習(Machine Learning)はAIを支える技術の1つ\\n\",\"\\n\",\"　機械（コンピュータ）が事例・経験から学習すること\\n\",\"\\n\",\"　事例となるデータをコンピュータに学ばせることによって、そこに潜むパターンや法則を見つけ出し\\n\",\"\\n\",\"　未知のデータに対しても判別できるようにする\"]},{\"cell_type\":\"markdown\",\"metadata\":{\"id\":\"2QFbzRxoPnmU\"},\"source\":[\"機械学習の分類\\n\",\"\\n\",\"　機械学習の学習方法はどのようなデータをコンピュータに入力するかで3種類存在する\\n\",\"\\n\",\"　・教師あり学習\\n\",\"\\n\",\"　　データと正解を機械に学習させる\\n\",\"\\n\",\"　・教師なし学習\\n\",\"\\n\",\"　　データのみを学習させる\\n\",\"\\n\",\"　　コンピュータが特徴を見つけて分類わけをする\\n\",\"\\n\",\"　・強化学習\\n\",\"\\n\",\"　　データのみを学習させるが、課題や目的を設定する\\n\",\"\\n\"]},{\"cell_type\":\"markdown\",\"metadata\":{\"id\":\"NSPmLZ1XKY63\"},\"source\":[\"AIで何ができるか\\n\",\"\\n\",\"　・画像認識による異常検知\\n\",\"\\n\",\"　・チャットボットによるお問い合わせ対応\\n\",\"\\n\",\"　・音声認識による「Siri」などのアシスタント機能、リアルタイム翻訳\"]},{\"cell_type\":\"markdown\",\"metadata\":{\"id\":\"p6bloc7r3gPO\"},\"source\":[\"AIの主要サービス\\n\",\"\\n\",\"　・AWS(Amazon Web Services)\\n\",\"\\n\",\"　・Azure\\n\",\"\\n\",\"　・GCP(Google Cloud Platform)\\n\",\"\\n\",\"　・Watson\"]},{\"cell_type\":\"markdown\",\"metadata\":{\"id\":\"7HGq6QKNwStx\"},\"source\":[\"Webで画像分類を試せるサイト\\n\",\"\\n\",\"https://face-ai.userlocal.jp/\"]},{\"cell_type\":\"markdown\",\"metadata\":{\"id\":\"yHpzkExpyvhY\"},\"source\":[\"# AIの現状\"]},{\"cell_type\":\"markdown\",\"metadata\":{\"id\":\"2R0bmy_m3Tbe\"},\"source\":[\"日本の現在のAI導入率は39%となっています。\\n\",\"\\n\",\"特に中堅・中小企業の導入率は5.6％となっており、導入におけるハードルが高いことを示しています。\\n\",\"\\n\",\"出典：令和元年版情報通信白書（総務省）\"]},{\"cell_type\":\"markdown\",\"metadata\":{\"id\":\"ea435VU51vOX\"},\"source\":[\"# AIの未来について\"]},{\"cell_type\":\"markdown\",\"metadata\":{\"id\":\"1cMvdGSB3Xdm\"},\"source\":[\"日本のAI導入状況は、各国に比べて低いものの、ニーズは着実に高まっています。少子高齢化により人口減少が続き、各業界での人手不足が深刻化すると、AIの助けが必要なケースが増えていきます。\"]}]}"
   ]
  }
 ],
 "metadata": {
  "kernelspec": {
   "display_name": "Python 3 (ipykernel)",
   "language": "python",
   "name": "python3"
  },
  "language_info": {
   "codemirror_mode": {
    "name": "ipython",
    "version": 3
   },
   "file_extension": ".py",
   "mimetype": "text/x-python",
   "name": "python",
   "nbconvert_exporter": "python",
   "pygments_lexer": "ipython3",
   "version": "3.9.7"
  }
 },
 "nbformat": 4,
 "nbformat_minor": 5
}
