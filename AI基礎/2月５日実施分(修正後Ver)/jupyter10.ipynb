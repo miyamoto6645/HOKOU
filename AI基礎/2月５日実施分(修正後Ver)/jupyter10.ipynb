{
 "cells": [
  {
   "cell_type": "code",
   "execution_count": null,
   "id": "a0197a53",
   "metadata": {},
   "outputs": [],
   "source": [
    "{\"nbformat\":4,\"nbformat_minor\":0,\"metadata\":{\"colab\":{\"name\":\"パーソナライズの説明.ipynb\",\"provenance\":[],\"collapsed_sections\":[],\"authorship_tag\":\"ABX9TyOyL2ZzKWpYtv5WflNwf2ox\"},\"kernelspec\":{\"name\":\"python3\",\"display_name\":\"Python 3\"},\"language_info\":{\"name\":\"python\"}},\"cells\":[{\"cell_type\":\"markdown\",\"metadata\":{\"id\":\"COVsckEamiIV\"},\"source\":[\"パーソナライズとは\"]},{\"cell_type\":\"markdown\",\"metadata\":{\"id\":\"sb18yrsHmsXW\"},\"source\":[\"パーソナライズとは、顧客全員に同じサービスやコンテンツを提供するのではなく、一人一人の属性や購買、行動履歴に基づいて最適な情報を提供する手法、しくみのこと。ウェブサイトや電子メールにおいて、全てのユーザーに同一のサービスやコンテンツを提供するのではなく、ユーザーの特徴や行動から属性を識別し、サービスやコンテンツを変化させる手法。\\n\",\"\\n\"]},{\"cell_type\":\"markdown\",\"metadata\":{\"id\":\"B7sRokromvUd\"},\"source\":[\"例えば、オンラインショップやポータルサイトの場合、ユーザーの性別、年齢、趣味、職業などの登録状況から、登録状況に合ったサービスやコンテンツを提供する。また、ユーザーの購入履歴、閲覧履歴から、関連性の高いコンテンツや商品を提供するといったサービスや機能も存在する。これらのパーソナライズによって、ユーザーが望む情報を優先的に提供することができ、ユーザビリティを高めるだけでなく購買意欲を同時に高め、販売促進につなげることができる。\"]},{\"cell_type\":\"markdown\",\"metadata\":{\"id\":\"yPKZEUyunCa1\"},\"source\":[\"参考サイト\\n\",\"\\n\",\"https://www.brainpad.co.jp/rtoaster/blog/personalize_casestudy/\"]}]}"
   ]
  }
 ],
 "metadata": {
  "kernelspec": {
   "display_name": "Python 3 (ipykernel)",
   "language": "python",
   "name": "python3"
  },
  "language_info": {
   "codemirror_mode": {
    "name": "ipython",
    "version": 3
   },
   "file_extension": ".py",
   "mimetype": "text/x-python",
   "name": "python",
   "nbconvert_exporter": "python",
   "pygments_lexer": "ipython3",
   "version": "3.9.7"
  }
 },
 "nbformat": 4,
 "nbformat_minor": 5
}
