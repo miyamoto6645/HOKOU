{
 "cells": [
  {
   "cell_type": "code",
   "execution_count": null,
   "id": "a1faaf21",
   "metadata": {},
   "outputs": [],
   "source": [
    "{\"nbformat\":4,\"nbformat_minor\":0,\"metadata\":{\"colab\":{\"name\":\"AUTOML説明.ipynb\",\"provenance\":[],\"authorship_tag\":\"ABX9TyMxcma/y3hJtr9/DagmxabT\"},\"kernelspec\":{\"name\":\"python3\",\"display_name\":\"Python 3\"},\"language_info\":{\"name\":\"python\"}},\"cells\":[{\"cell_type\":\"markdown\",\"metadata\":{\"id\":\"P3ucu1BuX7BK\"},\"source\":[\"**AUTOML（自動機械学習説明）**\"]},{\"cell_type\":\"markdown\",\"metadata\":{\"id\":\"I0RVL-XMcOU6\"},\"source\":[\"昨今、機械学習ベースのAIは様々な産業でその有用性が確認され、活用されています。個々のアプリケーションやアナリティクスが普及し、その結果、機械学習のためのモデル開発をいかに効率的、効果的に行うかという課題が認識されてきています。その解決策の一つとして、自動機械学習（AutoML）に注目が集まっています。\"]},{\"cell_type\":\"markdown\",\"metadata\":{\"id\":\"2gVb8p8ycnCZ\"},\"source\":[\"自動機械学習（AutoML）とは、機械学習モデルの設計や開発を自動化することを指します。機械学習のプロセスには、「問題・仮説の定義」「データ収集」「データ処理」「探索的データ解析」「特徴量の設計」「機械学習モデルの構築」「可視化・コミュニケーション」「デプロイ」「モデルの運用・保守」というステップが存在します。\\n\",\"\\n\",\" \\n\",\"\\n\",\"これらのステップのうち、「問題・仮説の定義」と一部の「データ収集」は人間が行う必要がありますが、「データ処理」から「モデル構築」に至る一連のステップは自動化が可能です。AutoMLはこの自動化を実現します。さらにはAutoMLのソフトウェア・サービスによっては「データ収集」の一部や、「可視化・コミュニケーション」や、「デプロイ」、「運用・保守」のステップの実施も支援します。\"]},{\"cell_type\":\"markdown\",\"metadata\":{\"id\":\"VZl8PKM5X_cp\"},\"source\":[\"https://www.techfirm.co.jp/blog/automl#3-1\"]}]}"
   ]
  }
 ],
 "metadata": {
  "kernelspec": {
   "display_name": "Python 3 (ipykernel)",
   "language": "python",
   "name": "python3"
  },
  "language_info": {
   "codemirror_mode": {
    "name": "ipython",
    "version": 3
   },
   "file_extension": ".py",
   "mimetype": "text/x-python",
   "name": "python",
   "nbconvert_exporter": "python",
   "pygments_lexer": "ipython3",
   "version": "3.9.7"
  }
 },
 "nbformat": 4,
 "nbformat_minor": 5
}
