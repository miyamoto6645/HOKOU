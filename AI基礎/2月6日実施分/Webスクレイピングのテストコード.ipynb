{
  "nbformat": 4,
  "nbformat_minor": 0,
  "metadata": {
    "colab": {
      "name": "Webスクレイピングのテストコード.ipynb",
      "provenance": [],
      "collapsed_sections": []
    },
    "kernelspec": {
      "name": "python3",
      "display_name": "Python 3"
    },
    "language_info": {
      "name": "python"
    }
  },
  "cells": [
    {
      "cell_type": "markdown",
      "metadata": {
        "id": "mAkh8gGTRxdK"
      },
      "source": [
        "Webスクレイピングのコード\n",
        "NDSのホームページのリンク先を一覧にしている"
      ]
    },
    {
      "cell_type": "code",
      "source": [
        ""
      ],
      "metadata": {
        "id": "EC2PuQtw5EjC"
      },
      "execution_count": null,
      "outputs": []
    },
    {
      "cell_type": "code",
      "source": [
        ""
      ],
      "metadata": {
        "id": "h9d5_WcG5Eug"
      },
      "execution_count": null,
      "outputs": []
    },
    {
      "cell_type": "code",
      "metadata": {
        "id": "YE-0VDVUI_7i",
        "outputId": "dba70034-6a38-4b63-a0b7-4846adf430dd",
        "colab": {
          "base_uri": "https://localhost:8080/"
        }
      },
      "source": [
        "#タイトルストリング取得\n",
        "# coding: UTF-8\n",
        "from bs4 import BeautifulSoup\n",
        "import requests\n",
        "from google.colab import files\n",
        "\n",
        "# アクセスするURL\n",
        "url = \"https://www.nds-w.co.jp/\"\n",
        "\n",
        "# htmlを取得、BeautifulSoupで扱う\n",
        "r = requests.get(url)\n",
        "soup = BeautifulSoup(r.content, 'html.parser') # BeautifulSoupの初期化\n",
        "\n",
        "print(soup.title.string)\n",
        "\n",
        "tags = soup.find_all(\"a\")\n",
        "for tag in tags:\n",
        "  print(tag.get(\"href\"))"
      ],
      "execution_count": 1,
      "outputs": [
        {
          "output_type": "stream",
          "name": "stdout",
          "text": [
            "NDS 日本電算システム株式会社\n",
            "http://www.nds-w.co.jp/\n",
            "http://www.nds-w.co.jp/\n",
            "inquiry.php\n",
            "greetings.php\n",
            "company.php\n",
            "business.php\n",
            "results.php\n",
            "recruit.php\n",
            "partner.php\n",
            "office.php\n",
            "http://www.ckg.ac.jp/\n",
            "http://www.ckg.ac.jp/baseball/\n",
            "/_common/pdf/ipad.pdf\n",
            "https://itunes.apple.com/JP/app/id615842031\n",
            "inquiry.php\n",
            "http://athlete.ahc-net.co.jp/\n"
          ]
        }
      ]
    }
  ]
}