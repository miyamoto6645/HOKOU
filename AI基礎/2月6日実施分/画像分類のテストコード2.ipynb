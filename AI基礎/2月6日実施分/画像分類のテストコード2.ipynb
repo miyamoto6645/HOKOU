{
  "nbformat": 4,
  "nbformat_minor": 0,
  "metadata": {
    "colab": {
      "name": "画像分類のテストコード2.ipynb.",
      "provenance": [],
      "collapsed_sections": []
    },
    "kernelspec": {
      "name": "python3",
      "display_name": "Python 3"
    },
    "language_info": {
      "name": "python"
    }
  },
  "cells": [
    {
      "cell_type": "markdown",
      "metadata": {
        "id": "nD4Ix13cqjGa"
      },
      "source": [
        "必要なモジュールを読み込む\n",
        "\n",
        "**tensorflow**は機械学習用のパッケージ\n",
        "\n",
        "*matplotlib.pyplot*はグラフ(画像)を表示させる\n",
        "\n",
        "numpyはベクトルや行列計算を高速で行ってくれる"
      ]
    },
    {
      "cell_type": "code",
      "metadata": {
        "id": "IgX0EpVJnK6Z"
      },
      "source": [
        "import tensorflow as tf\n",
        "import matplotlib.pyplot as plt\n",
        "import numpy as np"
      ],
      "execution_count": null,
      "outputs": []
    },
    {
      "cell_type": "markdown",
      "metadata": {
        "id": "1hCiLyZRq2Uo"
      },
      "source": [
        "データセットを用意\n",
        "\n",
        "(x_train, y_train)はトレーニング用のデータ\n",
        "\n",
        "(x_test, y_test)はテスト用のデータ"
      ]
    },
    {
      "cell_type": "code",
      "metadata": {
        "id": "_MFtMaL2nRvj"
      },
      "source": [
        "fashion_mnist = tf.keras.datasets.fashion_mnist\n",
        "(x_train, y_train), (x_test, y_test) = fashion_mnist.load_data() "
      ],
      "execution_count": null,
      "outputs": []
    },
    {
      "cell_type": "markdown",
      "metadata": {
        "id": "ogssJxidrhGQ"
      },
      "source": [
        "x_trainの中身を見てみる\n",
        "\n",
        "fashion_mnistの中には28×28ピクセルのカラー画像と答えのラベルが入っている"
      ]
    },
    {
      "cell_type": "code",
      "metadata": {
        "id": "S-Onkv-mnk-X"
      },
      "source": [
        "print(x_train[0])"
      ],
      "execution_count": null,
      "outputs": []
    },
    {
      "cell_type": "markdown",
      "metadata": {
        "id": "ullotMRcrqJw"
      },
      "source": [
        "画像として表示"
      ]
    },
    {
      "cell_type": "code",
      "metadata": {
        "id": "lZPXCRuwoZC6"
      },
      "source": [
        "plt.imshow(x_train[0])"
      ],
      "execution_count": null,
      "outputs": []
    },
    {
      "cell_type": "markdown",
      "metadata": {
        "id": "ttnBBqwHruII"
      },
      "source": [
        "どの数字を書いたものなのか確認"
      ]
    },
    {
      "cell_type": "code",
      "metadata": {
        "id": "9e3n-i5Xo2L5"
      },
      "source": [
        "print(y_train[0])"
      ],
      "execution_count": null,
      "outputs": []
    },
    {
      "cell_type": "markdown",
      "metadata": {
        "id": "-tkvXrjXr0Cp"
      },
      "source": [
        "データの正規化\n",
        "\n",
        "データを扱いやすく変形する\n",
        "\n",
        "精度を上げるために必要"
      ]
    },
    {
      "cell_type": "code",
      "metadata": {
        "id": "6K-V86iJouWC"
      },
      "source": [
        "x_train = tf.keras.utils.normalize(x_train, axis = 1)\n",
        "x_test = tf.keras.utils.normalize(x_test, axis = 1)"
      ],
      "execution_count": null,
      "outputs": []
    },
    {
      "cell_type": "markdown",
      "metadata": {
        "id": "63PTScMtsvsQ"
      },
      "source": [
        "学習モデルの作成\n",
        "\n"
      ]
    },
    {
      "cell_type": "code",
      "metadata": {
        "id": "u5yz_DKLpEKC"
      },
      "source": [
        "model = tf.keras.models.Sequential()\n",
        "model.add(tf.keras.layers.Flatten())\n",
        "model.add(tf.keras.layers.Dense(128, activation = tf.nn.relu))\n",
        "model.add(tf.keras.layers.Dense(128, activation = tf.nn.relu))\n",
        "model.add(tf.keras.layers.Dense(10, activation = tf.nn.softmax))\n",
        " \n",
        "model.compile(optimizer= \"adam\",\n",
        "             loss= \"sparse_categorical_crossentropy\",\n",
        "             metrics= [\"accuracy\"])"
      ],
      "execution_count": null,
      "outputs": []
    },
    {
      "cell_type": "markdown",
      "metadata": {
        "id": "xS3Egckls2ix"
      },
      "source": [
        "学習用データを使ってモデルを学習させる"
      ]
    },
    {
      "cell_type": "code",
      "metadata": {
        "id": "xFG0E-MBpMAx"
      },
      "source": [
        "model.fit(x_train, y_train, epochs=5)"
      ],
      "execution_count": null,
      "outputs": []
    },
    {
      "cell_type": "markdown",
      "metadata": {
        "id": "0rBaaetfs6cA"
      },
      "source": [
        "学習させたモデルを評価"
      ]
    },
    {
      "cell_type": "code",
      "metadata": {
        "id": "blIrJnCmpZzh"
      },
      "source": [
        "val_loss, vall_acc = model.evaluate(x_test, y_test)\n",
        "print(val_loss, vall_acc)"
      ],
      "execution_count": null,
      "outputs": []
    },
    {
      "cell_type": "markdown",
      "metadata": {
        "id": "nA4uUR6GtBYg"
      },
      "source": [
        "予測と画像を出力"
      ]
    },
    {
      "cell_type": "code",
      "metadata": {
        "id": "c6BBwU6TpivJ",
        "outputId": "0b7138de-26a5-449c-e385-a3e537f7ab41",
        "colab": {
          "base_uri": "https://localhost:8080/",
          "height": 236
        }
      },
      "source": [
        "predictions = model.predict([x_test])\n",
        "fig = plt.figure(figsize=(9, 9))\n",
        "plt.subplots_adjust(wspace=1, hspace=1)\n",
        "for i in range(9):\n",
        "  ax = fig.add_subplot(3, 3, 1+i)\n",
        "  ax. imshow(x_test[i])\n",
        "  ax.set_title(\"prediction : {}\".format(np.argmax(predictions[i])))\n",
        "plt.show()"
      ],
      "execution_count": 1,
      "outputs": [
        {
          "output_type": "error",
          "ename": "NameError",
          "evalue": "ignored",
          "traceback": [
            "\u001b[0;31m---------------------------------------------------------------------------\u001b[0m",
            "\u001b[0;31mNameError\u001b[0m                                 Traceback (most recent call last)",
            "\u001b[0;32m<ipython-input-1-46d63019b898>\u001b[0m in \u001b[0;36m<module>\u001b[0;34m()\u001b[0m\n\u001b[0;32m----> 1\u001b[0;31m \u001b[0mpredictions\u001b[0m \u001b[0;34m=\u001b[0m \u001b[0mmodel\u001b[0m\u001b[0;34m.\u001b[0m\u001b[0mpredict\u001b[0m\u001b[0;34m(\u001b[0m\u001b[0;34m[\u001b[0m\u001b[0mx_test\u001b[0m\u001b[0;34m]\u001b[0m\u001b[0;34m)\u001b[0m\u001b[0;34m\u001b[0m\u001b[0;34m\u001b[0m\u001b[0m\n\u001b[0m\u001b[1;32m      2\u001b[0m \u001b[0mfig\u001b[0m \u001b[0;34m=\u001b[0m \u001b[0mplt\u001b[0m\u001b[0;34m.\u001b[0m\u001b[0mfigure\u001b[0m\u001b[0;34m(\u001b[0m\u001b[0mfigsize\u001b[0m\u001b[0;34m=\u001b[0m\u001b[0;34m(\u001b[0m\u001b[0;36m9\u001b[0m\u001b[0;34m,\u001b[0m \u001b[0;36m9\u001b[0m\u001b[0;34m)\u001b[0m\u001b[0;34m)\u001b[0m\u001b[0;34m\u001b[0m\u001b[0;34m\u001b[0m\u001b[0m\n\u001b[1;32m      3\u001b[0m \u001b[0mplt\u001b[0m\u001b[0;34m.\u001b[0m\u001b[0msubplots_adjust\u001b[0m\u001b[0;34m(\u001b[0m\u001b[0mwspace\u001b[0m\u001b[0;34m=\u001b[0m\u001b[0;36m1\u001b[0m\u001b[0;34m,\u001b[0m \u001b[0mhspace\u001b[0m\u001b[0;34m=\u001b[0m\u001b[0;36m1\u001b[0m\u001b[0;34m)\u001b[0m\u001b[0;34m\u001b[0m\u001b[0;34m\u001b[0m\u001b[0m\n\u001b[1;32m      4\u001b[0m \u001b[0;32mfor\u001b[0m \u001b[0mi\u001b[0m \u001b[0;32min\u001b[0m \u001b[0mrange\u001b[0m\u001b[0;34m(\u001b[0m\u001b[0;36m9\u001b[0m\u001b[0;34m)\u001b[0m\u001b[0;34m:\u001b[0m\u001b[0;34m\u001b[0m\u001b[0;34m\u001b[0m\u001b[0m\n\u001b[1;32m      5\u001b[0m   \u001b[0max\u001b[0m \u001b[0;34m=\u001b[0m \u001b[0mfig\u001b[0m\u001b[0;34m.\u001b[0m\u001b[0madd_subplot\u001b[0m\u001b[0;34m(\u001b[0m\u001b[0;36m3\u001b[0m\u001b[0;34m,\u001b[0m \u001b[0;36m3\u001b[0m\u001b[0;34m,\u001b[0m \u001b[0;36m1\u001b[0m\u001b[0;34m+\u001b[0m\u001b[0mi\u001b[0m\u001b[0;34m)\u001b[0m\u001b[0;34m\u001b[0m\u001b[0;34m\u001b[0m\u001b[0m\n",
            "\u001b[0;31mNameError\u001b[0m: name 'model' is not defined"
          ]
        }
      ]
    },
    {
      "cell_type": "markdown",
      "metadata": {
        "id": "ireiEZ5y7sKb"
      },
      "source": [
        "自分で書いた画像を判定してみる"
      ]
    },
    {
      "cell_type": "code",
      "metadata": {
        "id": "pxNN3blR0_Fu"
      },
      "source": [
        "from google.colab import files\n",
        "uploaded_file = files.upload()"
      ],
      "execution_count": null,
      "outputs": []
    },
    {
      "cell_type": "code",
      "metadata": {
        "id": "euhJ1ZF4psya"
      },
      "source": [
        "uploaded_file_name = list(uploaded_file.keys())[0]"
      ],
      "execution_count": null,
      "outputs": []
    },
    {
      "cell_type": "code",
      "metadata": {
        "id": "rEybBi4z2LUE"
      },
      "source": [
        "import cv2\n",
        "\n",
        "def predict_number(uploaded_file):\n",
        "  # 読み込み\n",
        "  img = cv2.imread(uploaded_file)\n",
        "  # 読み込んだ画像を表示する\n",
        "  print(\"読み込んだ元画像\")\n",
        "  plt.imshow(img)\n",
        "  plt.axis(\"off\")\n",
        "  plt.show()\n",
        "  img = cv2.cvtColor(img,cv2.COLOR_BGR2GRAY)\n",
        "  # 読み込み画像をリサイズ\n",
        "  img = cv2.resize(img,(28,28))\n",
        " \n",
        "  # ネガポジ反転\n",
        "  img = 255 - img\n",
        "  \n",
        "  # モデルに流し込む画像を表示する\n",
        "  print(\"実際にモデルに流し込む画像\")\n",
        "  plt.imshow(img)\n",
        "  plt.axis(\"off\")\n",
        "  plt.show()\n",
        "  \n",
        "  # データを(1, 28, 28)の三次元配列に変換\n",
        "  img = img.reshape(1, 28, 28, 1).astype('float32') / 255\n",
        "  # 予測\n",
        "  ret = model.predict(img)\n",
        "  return ret\n",
        "\n",
        "# 画像ファイルを指定\n",
        "ans = predict_number(uploaded_file_name)\n",
        "print(\"この画像の数字は\" +  str(np.argmax(ans)) + \"です \\n\")\n"
      ],
      "execution_count": null,
      "outputs": []
    }
  ]
}