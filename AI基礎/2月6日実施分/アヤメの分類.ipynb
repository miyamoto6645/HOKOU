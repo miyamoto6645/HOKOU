{
  "nbformat": 4,
  "nbformat_minor": 0,
  "metadata": {
    "colab": {
      "name": "アヤメの分類.ipynb",
      "provenance": [],
      "collapsed_sections": []
    },
    "kernelspec": {
      "name": "python3",
      "display_name": "Python 3"
    },
    "language_info": {
      "name": "python"
    },
    "accelerator": "GPU"
  },
  "cells": [
    {
      "cell_type": "markdown",
      "metadata": {
        "id": "chU6rT-o6sr7"
      },
      "source": [
        "アヤメのデータセットを使い、3種類のアヤメの分類をする。\n",
        "\n",
        "また、それぞれの境界線を図にしてみる"
      ]
    },
    {
      "cell_type": "markdown",
      "metadata": {
        "id": "dRi_rgYl4bnF"
      },
      "source": [
        "Numpy　⇒　計算機能凄めライブラリ\n",
        "\n",
        "Pandas　⇒　表を扱いやすいライブラリ\n",
        "\n",
        "Matplotlib　⇒　グラフ可視化ライブラリ\n",
        "\n",
        "warnings　⇒　たまに邪魔な警告を消すライブラリ"
      ]
    },
    {
      "cell_type": "code",
      "metadata": {
        "id": "omUb63vi2OE1"
      },
      "source": [
        "import numpy as np\n",
        "import pandas as pd\n",
        "import matplotlib\n",
        "import matplotlib.pyplot as plt\n",
        "%matplotlib inline\n",
        "import warnings\n",
        "warnings.filterwarnings('ignore')"
      ],
      "execution_count": null,
      "outputs": []
    },
    {
      "cell_type": "markdown",
      "metadata": {
        "id": "171LRXaB4pSs"
      },
      "source": [
        "1つ目はscikit-learnに用意されているデータセットです。\n",
        "scikit-learnのデータセット集一つにアヤメのデータセットがあります。\n",
        "\n",
        "２つ目が学習用とテスト用にデータセットを分ける機能です。\n",
        "分ける理由としては、《学習用のデータで予測するモデルを作成する》⇒《テスト用データで作成したモデルは良い物か判定する》という機械学習では鉄板の2つの処理を行いたいからです。\n",
        "\n",
        "3つ目が分類を行うアルゴリズムになります。機械学習には様々な分類のアルゴリズムが存在して、以下のプログラムではアルゴリズムとして『線形のSVM』を用いるので、LinearSVCをインポートしています。"
      ]
    },
    {
      "cell_type": "code",
      "metadata": {
        "id": "aFk9BtkP2RPW"
      },
      "source": [
        "from sklearn.datasets import load_iris\n",
        "from sklearn.model_selection import train_test_split\n",
        "from sklearn.svm import LinearSVC"
      ],
      "execution_count": null,
      "outputs": []
    },
    {
      "cell_type": "markdown",
      "metadata": {
        "id": "dsnoMjqK4zT0"
      },
      "source": [
        "インスタンスを生成"
      ]
    },
    {
      "cell_type": "code",
      "metadata": {
        "id": "qultzFZY2UaV"
      },
      "source": [
        "heacet = load_iris()"
      ],
      "execution_count": null,
      "outputs": []
    },
    {
      "cell_type": "markdown",
      "metadata": {
        "id": "9s3lD5v74z9M"
      },
      "source": [
        "データセットの中身"
      ]
    },
    {
      "cell_type": "code",
      "metadata": {
        "id": "oWYkFUjH2XHl"
      },
      "source": [
        "print(\"与えられたデータ\")\n",
        "print(heacet.data)\n",
        "print(heacet.data.shape)\n",
        "print(\"-----------------\")\n",
        "print(\"予測するデータ\")\n",
        "print(heacet.target)\n",
        "print(heacet.target.shape)\n",
        "print(heacet.target_names)"
      ],
      "execution_count": null,
      "outputs": []
    },
    {
      "cell_type": "markdown",
      "metadata": {
        "id": "7Il5W5XT40vk"
      },
      "source": [
        "DataFrameの第一引数にデータセット、第二引数にカラムの名前を与える。\n",
        "\n",
        "DataFrameの第一引数に目的変数、第二引数にカラムの名前を与える。\n",
        "\n",
        "1と2のDataFrameを横に結合したDataFrameを作る"
      ]
    },
    {
      "cell_type": "code",
      "metadata": {
        "id": "7Sjx2Qul2aEU"
      },
      "source": [
        "heacet_data = pd.DataFrame(heacet.data, columns=[\"がく片の長さ\",\"がく片の幅\",\"花びらの長さ\",\"花びらの幅\"])\n",
        "heacet_target = pd.DataFrame(heacet.target, columns=[\"花の種類\"])\n",
        "heacet_all = pd.concat([heacet_data,heacet_target], axis=1)"
      ],
      "execution_count": null,
      "outputs": []
    },
    {
      "cell_type": "markdown",
      "metadata": {
        "id": "SHS0Dpuh43pc"
      },
      "source": [
        "headメソッドを使って最初の10行を見てみます。"
      ]
    },
    {
      "cell_type": "code",
      "metadata": {
        "id": "_21wyC372kxF"
      },
      "source": [
        "heacet_all.head(10)"
      ],
      "execution_count": null,
      "outputs": []
    },
    {
      "cell_type": "markdown",
      "metadata": {
        "id": "M5cUe1gP44D1"
      },
      "source": [
        "平均値などを出してくれるdescribeメソッド"
      ]
    },
    {
      "cell_type": "code",
      "metadata": {
        "id": "d7GzIJzC2xPd"
      },
      "source": [
        "heacet_all.describe()"
      ],
      "execution_count": null,
      "outputs": []
    },
    {
      "cell_type": "markdown",
      "metadata": {
        "id": "OdgGim-444kF"
      },
      "source": [
        "データを学習用とテスト用に分ける"
      ]
    },
    {
      "cell_type": "code",
      "metadata": {
        "id": "Bj3vL9K527Qt"
      },
      "source": [
        "setsumei_train,setsumei_test,mokuteki_train,mokuteki_test = train_test_split(heacet_data, heacet_target, test_size=0.33)"
      ],
      "execution_count": null,
      "outputs": []
    },
    {
      "cell_type": "markdown",
      "metadata": {
        "id": "Q2FvCmb645E1"
      },
      "source": [
        "がく片の長さと幅から表を作る"
      ]
    },
    {
      "cell_type": "code",
      "metadata": {
        "id": "7k_Hezhi3GG0"
      },
      "source": [
        "plt.scatter(setsumei_train[mokuteki_train[\"花の種類\"]==0][\"がく片の長さ\"],setsumei_train[(mokuteki_train == 0).values][\"がく片の幅\"],label=\"setosa\",cmap=\"rgb\")\n",
        "plt.scatter(setsumei_train[mokuteki_train[\"花の種類\"]==1][\"がく片の長さ\"],setsumei_train[(mokuteki_train == 1).values][\"がく片の幅\"],label=\"versicolor\",cmap=\"rgb\")\n",
        "plt.scatter(setsumei_train[mokuteki_train[\"花の種類\"]==2][\"がく片の長さ\"],setsumei_train[(mokuteki_train == 2).values][\"がく片の幅\"],label=\"virginica\",cmap=\"rgb\")\n",
        "\n",
        "## X軸の範囲を指定\n",
        "plt.xlim(3,9)\n",
        "## Y軸の範囲を指定\n",
        "plt.ylim(1,5)\n",
        "\n",
        "## X軸の名前\n",
        "plt.xlabel(\"Length of sepal\")\n",
        "## Y軸の名前\n",
        "plt.ylabel(\"Width of sepal\")\n",
        "\n",
        "## グラフのタイトル\n",
        "plt.title(\"Relation between length and width of sepal\")\n",
        "## 凡例を出力\n",
        "plt.legend()"
      ],
      "execution_count": null,
      "outputs": []
    },
    {
      "cell_type": "markdown",
      "metadata": {
        "id": "UWjor7fe45rU"
      },
      "source": [
        "花びらの長さと幅から表を作る"
      ]
    },
    {
      "cell_type": "code",
      "metadata": {
        "id": "5Ef88a5u3Spe"
      },
      "source": [
        "plt.scatter(setsumei_train[mokuteki_train[\"花の種類\"]==0][\"花びらの長さ\"],setsumei_train[(mokuteki_train == 0).values][\"花びらの幅\"],label=\"setosa\",cmap=\"rgb\")\n",
        "plt.scatter(setsumei_train[mokuteki_train[\"花の種類\"]==1][\"花びらの長さ\"],setsumei_train[(mokuteki_train == 1).values][\"花びらの幅\"],label=\"versicolor\",cmap=\"rgb\")\n",
        "plt.scatter(setsumei_train[mokuteki_train[\"花の種類\"]==2][\"花びらの長さ\"],setsumei_train[(mokuteki_train == 2).values][\"花びらの幅\"],label=\"virginica\",cmap=\"rgb\")\n",
        "\n",
        "plt.xlim(0,8)\n",
        "plt.ylim(0,4)\n",
        "\n",
        "plt.xlabel(\"Length of petal\")\n",
        "plt.ylabel(\"Width of petal\")\n",
        "\n",
        "plt.title(\"Relation between length and width of petal\")\n",
        "plt.legend()"
      ],
      "execution_count": null,
      "outputs": []
    },
    {
      "cell_type": "markdown",
      "metadata": {
        "id": "y8NzVxzs4693"
      },
      "source": [
        "可視化させた2つのパターン(がく片コンビと花びらコンビ)の特徴量を選択"
      ]
    },
    {
      "cell_type": "code",
      "metadata": {
        "id": "p56K68LP3Y8l"
      },
      "source": [
        "## がく片コンビのDataFrameを作成する。\n",
        "gakuhen_train = setsumei_train.loc[:,[\"がく片の長さ\",\"がく片の幅\"]]\n",
        "\n",
        "## 花びらコンビのDataFrameを作成する。\n",
        "hanabira_train = setsumei_train.loc[:,[\"花びらの長さ\",\"花びらの幅\"]]"
      ],
      "execution_count": null,
      "outputs": []
    },
    {
      "cell_type": "markdown",
      "metadata": {
        "id": "fBBALzxB47vV"
      },
      "source": [
        "モデル構築⇒学習⇒予測"
      ]
    },
    {
      "cell_type": "code",
      "metadata": {
        "id": "3dbzAT373ce9"
      },
      "source": [
        "## それぞれモデルを構築\n",
        "## それぞれモデルを構築\n",
        "gakuhen_model = LinearSVC()\n",
        "hanabira_model = LinearSVC()\n",
        "\n",
        "## それぞれのモデルに学習させる\n",
        "gakuhen_model.fit(gakuhen_train,mokuteki_train)\n",
        "hanabira_model.fit(hanabira_train,mokuteki_train)\n",
        "\n",
        "## それぞれのモデルで予測させて、予測値を代入させる\n",
        "### モデルが《がく片の長さと幅》を使って学習しているので、予測する時も《がく片の長さと幅》を渡す必要がある。\n",
        "gakuhen_predict = gakuhen_model.predict(setsumei_test.loc[:,[\"がく片の長さ\",\"がく片の幅\"]])\n",
        "### モデルが《花びらの長さと幅》を使って学習しているので、予測する時も《花びらの長さと幅》を渡す必要がある。\n",
        "hanabira_predict = hanabira_model.predict(setsumei_test.loc[:,[\"花びらの長さ\",\"花びらの幅\"]])"
      ],
      "execution_count": null,
      "outputs": []
    },
    {
      "cell_type": "markdown",
      "metadata": {
        "id": "zdR1_B0B48LF"
      },
      "source": [
        "モデルが予想したデータの答え合わせ"
      ]
    },
    {
      "cell_type": "code",
      "metadata": {
        "id": "d1eG8RT03fHt"
      },
      "source": [
        "## sklearnライブラリからscore算出の関数をimport\n",
        "from sklearn.metrics import accuracy_score\n",
        "\n",
        "## gakuhen_scoreとhanabira_scoreにそれぞれに結果を代入\n",
        "gakuhen_score = accuracy_score(mokuteki_test, gakuhen_predict)\n",
        "hanabira_score = accuracy_score(mokuteki_test, hanabira_predict)\n",
        "\n",
        "print('がく片の長さと幅コンビの正解率：{}'.format(gakuhen_score),'花びらの長さと幅コンビの正解率：{}'.format(hanabira_score), sep='\\n')"
      ],
      "execution_count": null,
      "outputs": []
    },
    {
      "cell_type": "markdown",
      "metadata": {
        "id": "cNPXGsjd48qt"
      },
      "source": [
        "《がく片の長さと幅》と《花びらの長さと幅》でそれぞれ境界線を見る準備"
      ]
    },
    {
      "cell_type": "code",
      "metadata": {
        "id": "hHMJtrVK3lIN"
      },
      "source": [
        "def heacet_border_check(H, M, model, param1, param2, resolution=0.01):\n",
        "    H1_min, H1_max = H[param1].min()-0.5, H[param1].max()+0.5\n",
        "    H2_min, H2_max = H[param2].min()-0.5, H[param2].max()+0.5\n",
        "    H1, H2 = np.meshgrid(np.arange(H1_min, H1_max, resolution),\n",
        "                           np.arange(H2_min, H2_max, resolution))\n",
        "    n = np.array([H1.ravel(), H2.ravel()]).T\n",
        "    Z = model.predict(n)\n",
        "    Z = Z.reshape(H1.shape)\n",
        "    plt.contourf(H1, H2, Z, alpha=0.5, cmap=\"Set2\")\n",
        "    plt.xlim(H1_min, H1_max)\n",
        "    plt.ylim(H2_min, H2_max)\n",
        "    plt.xlabel(\"Length\")\n",
        "    plt.ylabel(\"Width\")\n",
        "    plt.scatter(H[param1],H[param2], c=M[\"花の種類\"], cmap=\"brg\")"
      ],
      "execution_count": null,
      "outputs": []
    },
    {
      "cell_type": "markdown",
      "metadata": {
        "id": "OXi_iwAo49bt"
      },
      "source": [
        "《がく片の長さと幅》"
      ]
    },
    {
      "cell_type": "code",
      "metadata": {
        "id": "0Fn51Eaz4Pt9"
      },
      "source": [
        "heacet_border_check(setsumei_train, mokuteki_train, gakuhen_model, \"がく片の長さ\", \"がく片の幅\")"
      ],
      "execution_count": null,
      "outputs": []
    },
    {
      "cell_type": "markdown",
      "metadata": {
        "id": "PsI1QDvk4-KN"
      },
      "source": [
        "《花びらの長さと幅》"
      ]
    },
    {
      "cell_type": "code",
      "metadata": {
        "id": "m7lXZIah3qyU"
      },
      "source": [
        "heacet_border_check(setsumei_train, mokuteki_train, hanabira_model, \"花びらの長さ\", \"花びらの幅\")"
      ],
      "execution_count": null,
      "outputs": []
    },
    {
      "cell_type": "markdown",
      "metadata": {
        "id": "ZmtecdPR4-9d"
      },
      "source": [
        "結論：『データの可視化によって特徴を選択することはとても重要なこと』"
      ]
    }
  ]
}