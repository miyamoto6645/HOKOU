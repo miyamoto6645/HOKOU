{
  "nbformat": 4,
  "nbformat_minor": 0,
  "metadata": {
    "colab": {
      "name": "APIの説明.ipynb",
      "provenance": [],
      "collapsed_sections": []
    },
    "kernelspec": {
      "name": "python3",
      "display_name": "Python 3"
    },
    "language_info": {
      "name": "python"
    }
  },
  "cells": [
    {
      "cell_type": "markdown",
      "metadata": {
        "id": "3wFs9zzOw-gt"
      },
      "source": [
        "APIの振り返り"
      ]
    },
    {
      "cell_type": "markdown",
      "metadata": {
        "id": "CfYBUL-KwQqp"
      },
      "source": [
        "pythonの機能性を拡張させ、さらに便利に使えるようしたもの"
      ]
    },
    {
      "cell_type": "markdown",
      "metadata": {
        "id": "k427mRmHwEfR"
      },
      "source": [
        "APIの一覧"
      ]
    },
    {
      "cell_type": "markdown",
      "metadata": {
        "id": "Xf-aXGD26AQn"
      },
      "source": [
        "画像分類"
      ]
    },
    {
      "cell_type": "markdown",
      "metadata": {
        "id": "BlPHiVcCwKRV"
      },
      "source": [
        "・tensorflowは\n",
        "\n",
        "　→機械学習用のパッケージ\n",
        "\n",
        "・matplotlib.pyplot\n",
        "\n",
        "　→グラフ(画像)を表示させる\n",
        "\n",
        "・numpy\n",
        "\n",
        "　→ベクトルや行列計算を高速で行ってくれる\n",
        "\n",
        "・keras\n",
        "\n",
        "　→深層学習フレームワーク、ほかの深層学習フレームワークより扱いやすい\n",
        "\n",
        "・cv2\n",
        "\n",
        "　→画像や動画を処理する\n"
      ]
    },
    {
      "cell_type": "markdown",
      "metadata": {
        "id": "AS3nHX036Ird"
      },
      "source": [
        "Webスクレイピング"
      ]
    },
    {
      "cell_type": "markdown",
      "metadata": {
        "id": "vd0KgCDK5-aL"
      },
      "source": [
        "・BeautifulSoup\n",
        "\n",
        "　→HTMLやXMLからデータを引き出すことができる\n",
        "\n",
        "・requests\n",
        "\n",
        "　→RESTスタイルのWeb APIを呼び出す"
      ]
    },
    {
      "cell_type": "markdown",
      "metadata": {
        "id": "iVYHLMre6g5a"
      },
      "source": [
        "動画の車両判定"
      ]
    },
    {
      "cell_type": "markdown",
      "metadata": {
        "id": "F2SUJsOo6hkq"
      },
      "source": [
        "・os\n",
        "\n",
        "　→OSに依存しているさまざまな機能を利用する\n",
        "\n",
        "・csv\n",
        "\n",
        "　→CSVデータを取り扱う\n",
        "\n",
        "・numpy\n",
        "\n",
        "　→ベクトルや行列計算を高速で行ってくれる\n",
        "\n",
        "・logging\n",
        "\n",
        "　→ログ出力\n",
        "\n",
        "・logging.handlers\n",
        "\n",
        "　→ログの出力先を操作\n",
        "\n",
        "・math\n",
        "\n",
        "　→数学計算用の関数\n",
        "\n",
        "・sys\n",
        "\n",
        "　→インタプリタや実行環境に関する情報を扱う\n",
        "\n",
        "・random\n",
        "\n",
        "　→乱数生成\n",
        "\n",
        "・skvideo.io\n",
        "\n",
        "　→動画ファイルの読み込み・書き込みを行う\n",
        "\n",
        "・cv2\n",
        "\n",
        "　→画像や動画を処理する\n",
        "\n",
        "・matplotlib.pyplot\n",
        "\n",
        "　→グラフ(画像)を表示させる\n",
        "\n",
        "・IPython.display\n",
        "\n",
        "　→画像や動画の表示\n",
        "\n",
        "・base64\n",
        "\n",
        "　→base64でエンコードする\n",
        "\n",
        "・google.colab\n",
        "\n",
        "　→google colabの機能\n"
      ]
    },
    {
      "cell_type": "markdown",
      "metadata": {
        "id": "L2JSVtvCqm4I"
      },
      "source": [
        "テキスト分析"
      ]
    },
    {
      "cell_type": "markdown",
      "metadata": {
        "id": "OLFwC4ElqtxJ"
      },
      "source": [
        "・oseti\n",
        "\n",
        "　→日本語評価極性辞書を利用した文章のネガポジ判定"
      ]
    },
    {
      "cell_type": "markdown",
      "metadata": {
        "id": "wCbPa0qFqqB3"
      },
      "source": [
        "IMDB映画レビュー感情分類"
      ]
    },
    {
      "cell_type": "markdown",
      "metadata": {
        "id": "P68gHyfuquiV"
      },
      "source": [
        "・keras\n",
        "\n",
        "　→深層学習フレームワーク、ほかの深層学習フレームワークより扱いやすい\n",
        "\n",
        "・numpy\n",
        "\n",
        "　→ベクトルや行列計算を高速で行ってくれる\n",
        "\n",
        "・matplotlib.pyplot\n",
        "\n",
        "　→グラフ(画像)を表示させる"
      ]
    },
    {
      "cell_type": "markdown",
      "metadata": {
        "id": "xT9JEd3OqunL"
      },
      "source": [
        "音声認識"
      ]
    },
    {
      "cell_type": "markdown",
      "metadata": {
        "id": "bIIHtqHyqxCD"
      },
      "source": [
        "・google.colab\n",
        "\n",
        "　→google colabの機能\n",
        "\n",
        "・speech_recognition\n",
        "\n",
        "　→音声認識を行う"
      ]
    },
    {
      "cell_type": "markdown",
      "metadata": {
        "id": "Tup_X_jSqxGN"
      },
      "source": [
        "音声分割"
      ]
    },
    {
      "cell_type": "markdown",
      "metadata": {
        "id": "-EH7nW2yq7Hw"
      },
      "source": [
        "・ffmpeg\n",
        "\n",
        "　→ビデオとオーディオの変換\n",
        "\n",
        "・spleeter\n",
        "\n",
        "　→音楽素材分離\n",
        "\n",
        "・IPython.display\n",
        "\n",
        "　→画像や動画の表示"
      ]
    },
    {
      "cell_type": "markdown",
      "metadata": {
        "id": "_X4yiBSAtMI5"
      },
      "source": [
        "翻訳"
      ]
    },
    {
      "cell_type": "markdown",
      "metadata": {
        "id": "yHWurAVatMMA"
      },
      "source": [
        "・googletrans\n",
        "\n",
        "　→google翻訳\n",
        "\n",
        "・pandas\n",
        "\n",
        "　→データ解析を支援\n",
        "\n",
        "・numpy\n",
        "\n",
        "　→ベクトルや行列計算を高速で行ってくれる"
      ]
    },
    {
      "cell_type": "markdown",
      "metadata": {
        "id": "JKH0aKaltMbt"
      },
      "source": [
        "アヤメの分類"
      ]
    },
    {
      "cell_type": "markdown",
      "metadata": {
        "id": "hTXU5-UctMe5"
      },
      "source": [
        "・numpy\n",
        "\n",
        "　→ベクトルや行列計算を高速で行ってくれる\n",
        "\n",
        "・pandas\n",
        "\n",
        "　→データ解析を支援\n",
        "\n",
        "・matplotlib\n",
        "\n",
        "　→グラフ描画\n",
        "\n",
        "・matplotlib.pyplot\n",
        "\n",
        "　→グラフ(画像)を表示させる\n",
        "\n",
        "・warnings\n",
        "\n",
        "　→警告メッセージの制御\n",
        "\n",
        "・sklearn\n",
        "\n",
        "　→様々な分類、回帰、クラスタリングアルゴリズム"
      ]
    },
    {
      "cell_type": "markdown",
      "metadata": {
        "id": "1XsQaDthtMnk"
      },
      "source": [
        "可視化"
      ]
    },
    {
      "cell_type": "markdown",
      "metadata": {
        "id": "fAXfuVbQtMqn"
      },
      "source": [
        "・altair\n",
        "\n",
        "　→データ可視化\n",
        "\n",
        "・vega_datasets\n",
        "\n",
        "　→データセット\n",
        "\n",
        "・matplotlib.pyplot\n",
        "\n",
        "　→グラフ(画像)を表示させる"
      ]
    }
  ]
}