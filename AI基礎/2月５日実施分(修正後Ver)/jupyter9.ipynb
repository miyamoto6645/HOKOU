{
 "cells": [
  {
   "cell_type": "code",
   "execution_count": null,
   "id": "ba69415a",
   "metadata": {},
   "outputs": [],
   "source": [
    "{\"nbformat\"：4、 \"nbformat_minor\"：0、 \"metadata\"：{\"colab\"：{\"name\"： \"3.ipynb\"、 \"provenance\"：[]、 \"collapsed_sections\"：[]、 \"authorship_tag\" ： \"ABX9TyNTjezInTriiZ9cnDGKqEL8\"}、 \"kernelspec\"：{\"name\"： \"python3\"、 \"display_name\"： \"Python 3\"}、 \"language_info\"：{\"name\"： \"python\"}}、 \"cells\"：[{ \"cell_type\"： \"markdown\"、 \"metadata\"：{\"id\"： \"AbkaL7p1ktln\"}、 \"source\"：[\"Googletransは、googleサンプルのAPIを使用してPythonの「 「]、」execute_count \"：null、\" outputs \"：[]}、{\" cell_type \"：\" markdown \"、\" metadata \"：{\" id \"：\" _ yf4KDlOkvAu \"}、\" source \"：[\" googletransの適用\\ n \"、\" \\ n \"、\"日本語を英語してください \"]}、{\" cell_type \"：\" code \"、\" metadata \"：{\" id \"：\" BrPNunqthszJ \"}、\" source \"：[\" from googletrans import Translator \\ n \"、\" \\ n \"、\" translator = Translator（）\\ n \"、\" str = 'こんにちは' \\ n \"、\" print（translator.translate（str、dest = 'en'）。text） \"] 、 \"execution_count\"：null、 \"outputs\"：[]}、{\"cell_type\"： \"markdown\"、 \"metadata\"：{\"id\"： \"GslIC9_1kveW\"}、 \"source\"：[\"destの販売は英語dest = 'en'は略し翻訳なしです。 \"]}、{\" cell_type \"：\"code \"、\" metadata \"：{\" colab \"：{\" base_uri \"：\" https：// localhost：8080 / \"}、\" id \"：\" SYkRbr5Clwl9 \"、\" executionInfo \"：{\" status \"：\" ok \"、 \"timestamp\"：1637147425270、 \"user_tz\"：-540、 \"elapsed\"：296、 \"user\"：{\"displayName\"： \"吉永雄大\"、 \"photoUrl\"： \"https://lh3.googleusercontent.com/a- / AOh14GinJEnHe6FxPXTlPOx0cGgEFlMOcuGcHDJnpyE5 = s64 \"、\" userId \"：\" 10474661358112393222 \"}}、\" outputId \"：\" 84c6e83d-52ef-419d-ab0c-9309d683c9b3 \"}、\" source \"：[\" from \"、\" translation = Translator（）\\ n \"、\" str = 'こんにちは' \\ n \"、\" print（translator.translate（str）.text） \"]、\" execute_count \"：42、\" outputs \"：[{\"output_type\"： \"stream\"、 \"name\"： \"stdout\"、 \"text\"：[\"Hello \\ n\"]}]}、{\"cell_type\"： \"markdown\"、 \"metadata\"：{\"id \"：\" ofOR5lsgluwO \"}、\" source \"：[\"目的からデれますが、destをアクセスすることで、他の言語へのメタデータです。 \"]}、{\" cell_type \"：\" code \"、\"メタデータ \"：{\" id \"：\" Tn6zqiemiArO \"}、\" source \"：[\" print（translator.translate（str、dest = 'fr'）。text） \"]、\" execute_count \"：null、\" outputs \"：[ ]}、{\"cell_type\"： \"markdown\"、 \"metadata\"：{\"id\"： \"4Y2Ja66kkwCu\"}、 \"source\"：[\"**日本語白から白への変換**\"]}、{\" cell_type \"：\" markdown \"、\" metadata \"：{\" id \"：\" 8K7zw9jol5q9 \"}、\" source \"：[\"日本語からシングルしてしていきます。 \"：[\"パンダをpdとしてインポート\\ n \"、\" numpyをnpとしてインポート\\ n \"、\" \\ n \"、\" df = pd.DataFrame（np.arange（25）.reshape（5、5）、\\ n \" 、 \"columns = ['店舗ID'、 '店舗ID'、 'メタ'、 '価格'、 '店舗施設']）\\ n\"、 \"df.head（）\"]、 \"execution_count\"：null、 \"outputs \"：[]}、{\" cell_type \"：\" markdown \"、\" metadata \"：{\" id \"：\" 8XBsCzbbkwzW \"}、\" source \"：[\" lightGBMで攻撃する際得があります。 \"：[\"eng_columns = {} \\ n \"、\" columns = df.columns \\ n \"、\" translation = Translator（）\\ n \"、\" \\ n \"、\"列の列の場合：\\ n \"、\" eng_columns [column] =トランスレータ.translate（column）.text \\ n \"、\" \\ n \"、\" print（eng_columns） \"]、\" execute_count \"：null、\" outputs \"：[]}、{\" cell_type \"：\" markdown \"、\" metadata \" ：{\"id\"： \"v9PHYo7glYle\"}、 \"source\"：[\"無事に英語に変換しました。どできします。\\ n \"、\" \\ n \"、\"属性名をするしします \"]}、{\" cell_type \"：\" code \"、\" metadata \"：{\" id \"： \"dwCnLL0oiRmG\"}、 \"source\"：[\"eng_columns = {} \\ n\"、 \"columns = df.columns \\ n\"、 \"translator = Translator（）\\ n\"、 \"\\ n\"、 \"列の列の場合：\\ n \"、\" eng_column = translation.translate（column）.text \\ n \"、\" eng_column = eng_column.replace（ ''、 '_'）\\ n \"、\" eng_columns [column] = eng_column \\ n \"、\" \\ n \"、\" df.head（） \"]、\" execute_count \"：null、\" outputs \"：[]}]}"
   ]
  }
 ],
 "metadata": {
  "kernelspec": {
   "display_name": "Python 3 (ipykernel)",
   "language": "python",
   "name": "python3"
  },
  "language_info": {
   "codemirror_mode": {
    "name": "ipython",
    "version": 3
   },
   "file_extension": ".py",
   "mimetype": "text/x-python",
   "name": "python",
   "nbconvert_exporter": "python",
   "pygments_lexer": "ipython3",
   "version": "3.9.7"
  }
 },
 "nbformat": 4,
 "nbformat_minor": 5
}
