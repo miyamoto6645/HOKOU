{
  "cells": [
    {
      "cell_type": "markdown",
      "metadata": {
        "id": "-cRD6vHcpSOA"
      },
      "source": [
        "次のURLを参考にして各問いに答えなさい。\n",
        "http://python.rdy.jp/wiki.cgi?page=%CC%E4%C2%EA%BD%B8"
      ]
    },
    {
      "cell_type": "markdown",
      "metadata": {
        "id": "tyKdQjAPpdv9"
      },
      "source": [
        "画面上に、「Hello World」と表示しなさい"
      ]
    },
    {
      "cell_type": "code",
      "execution_count": null,
      "metadata": {
        "id": "-1viOMycpvBx"
      },
      "outputs": [],
      "source": []
    },
    {
      "cell_type": "markdown",
      "metadata": {
        "id": "_iB9Ddb_p8vp"
      },
      "source": [
        "\n",
        "\n",
        "１）変数ａに、１０を代入しなさい\n",
        "\n",
        "２）変数ｂに、ａを10倍した値をセットしなさい\n",
        "\n",
        "３）変数ｃに、変数ａと変数ｂを合計した値をセットしなさい\n",
        "\n",
        "４）変数ａを画面に表示しなさい\n",
        "\n",
        "５）変数ｂを画面に表示しなさい\n",
        "\n",
        "６）変数ｃを画面に表示しなさい\n",
        "\n",
        "\n",
        "\n"
      ]
    },
    {
      "cell_type": "code",
      "execution_count": null,
      "metadata": {
        "id": "Lihi2wrDqsu-"
      },
      "outputs": [],
      "source": []
    },
    {
      "cell_type": "markdown",
      "metadata": {
        "id": "Hysx9WeCpwgz"
      },
      "source": [
        "画面上に、１から１００までの和を計算して表示しなさい。"
      ]
    },
    {
      "cell_type": "code",
      "execution_count": null,
      "metadata": {
        "id": "KcFBf5OKp19x"
      },
      "outputs": [],
      "source": []
    },
    {
      "cell_type": "markdown",
      "metadata": {
        "id": "iix2EWaVp2VU"
      },
      "source": [
        "画面上に、１から１００までの奇数の和を計算して表示しなさい。"
      ]
    },
    {
      "cell_type": "code",
      "execution_count": null,
      "metadata": {
        "id": "sdF2gdpKqLRo"
      },
      "outputs": [],
      "source": []
    },
    {
      "cell_type": "markdown",
      "metadata": {
        "id": "GYz_FF8Oq15t"
      },
      "source": [
        "2つの値を画面上から入力し、画面に表示しなさい"
      ]
    },
    {
      "cell_type": "code",
      "execution_count": null,
      "metadata": {
        "id": "NGgMiwXOqxsT"
      },
      "outputs": [],
      "source": []
    },
    {
      "cell_type": "markdown",
      "metadata": {
        "id": "Ntu1-JfYq6r8"
      },
      "source": [
        "画面から、二つの自然数を入力し、最大公約数を求めるプログラムを作成しなさい\n",
        "\n",
        "文字列の演算を行う場合には、必ず整数型に変換をすること"
      ]
    },
    {
      "cell_type": "code",
      "execution_count": null,
      "metadata": {},
      "outputs": [],
      "source": []
    },
    {
      "cell_type": "markdown",
      "metadata": {
        "id": "yZqgVLtAsZ0V"
      },
      "source": [
        "二つの自然数の最小公倍数を求めなさい。"
      ]
    },
    {
      "cell_type": "code",
      "execution_count": null,
      "metadata": {},
      "outputs": [],
      "source": []
    },
    {
      "cell_type": "markdown",
      "metadata": {
        "id": "fCo09o5TsqJb"
      },
      "source": [
        "フィボナッチ数列を、100より小さい範囲で表示しなさい。"
      ]
    },
    {
      "cell_type": "code",
      "execution_count": null,
      "metadata": {},
      "outputs": [],
      "source": []
    }
  ],
  "metadata": {
    "colab": {
      "name": "Untitled1.ipynb",
      "provenance": []
    },
    "kernelspec": {
      "display_name": "Python 3",
      "name": "python3"
    },
    "language_info": {
      "name": "python"
    }
  },
  "nbformat": 4,
  "nbformat_minor": 0
}
