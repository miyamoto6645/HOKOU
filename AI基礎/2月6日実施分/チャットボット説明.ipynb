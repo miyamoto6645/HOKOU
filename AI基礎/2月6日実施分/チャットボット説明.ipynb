{
  "nbformat": 4,
  "nbformat_minor": 0,
  "metadata": {
    "colab": {
      "name": "チャットボット説明.ipynb",
      "provenance": []
    },
    "kernelspec": {
      "name": "python3",
      "display_name": "Python 3"
    },
    "language_info": {
      "name": "python"
    }
  },
  "cells": [
    {
      "cell_type": "markdown",
      "metadata": {
        "id": "4Z2W6oDxVT28"
      },
      "source": [
        "**チャットボットについて**"
      ]
    },
    {
      "cell_type": "markdown",
      "metadata": {
        "id": "OJdHF8H4VXpL"
      },
      "source": [
        "チャットボット（chatbot）は、「チャット」＋「ボット」を掛け合わせた造語で、ユーザーの入力するテキストや音声に対して、ロボットが自動的に回答する会話型システムのことです。\n",
        "\n",
        "チャットは、主にインターネットを介してユーザー同士がリアルタイムで会話をすることです。\n",
        "\n",
        "一方、ボットとは「ロボット」の略語です。何度も繰り返す同じ処理をプログラムにして、自動化したシステムを指します。\n",
        "\n",
        "主にLINEやMessengerのようなチャット形式で提供されており、あらかじめ人間の手でルールやシナリオを設定し、決められた応答を返す「ルールベース型」と、AIが言語を理解し適切な回答を行い、会話ログを学習することでさらに賢く成長していく「AI型」があります。\n",
        "\n",
        "チャットボットには「返答が早い」「24時間365日対応可能」「場所を選ばない気軽さ」「様々なチャネルでの提供が可能」といったメリットがあります。このことから、カスタマーサポート業務、商品販売、再配達依頼など様々な分野で活躍しています。さらに、「AI型」のチャットボットはAIによる予想外の応答を利用して、コミュニケーションツールとしても活用されており、キャラクタープロモーションや顧客接点の拡大に効果を発揮しています。\n",
        "\n",
        "このチャットボットですが2016年、FacebookやLINEなどのIT企業が開発者向けに公開したチャットボットのプラットフォームがきっかけとなり一気に普及しました。"
      ]
    },
    {
      "cell_type": "markdown",
      "metadata": {
        "id": "sbsGYrvpV9lM"
      },
      "source": [
        "**参考サイト**"
      ]
    },
    {
      "cell_type": "markdown",
      "metadata": {
        "id": "hWNvH16BWY_L"
      },
      "source": [
        "https://aixdesign.goo.ne.jp/column/whats-chatbot/"
      ]
    },
    {
      "cell_type": "markdown",
      "metadata": {
        "id": "GRR4Rx_6Y19D"
      },
      "source": [
        "**導入事例**"
      ]
    },
    {
      "cell_type": "markdown",
      "metadata": {
        "id": "vom0IPSEa-_x"
      },
      "source": [
        "**JR東日本のサイト**\n",
        "\n",
        "https://www.jreast.co.jp/info/"
      ]
    }
  ]
}