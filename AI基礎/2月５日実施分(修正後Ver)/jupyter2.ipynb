{
 "cells": [
  {
   "cell_type": "code",
   "execution_count": null,
   "id": "a65467d6",
   "metadata": {},
   "outputs": [],
   "source": [
    "{\"nbformat\"：4、 \"nbformat_minor\"：0、 \"metadata\"：{\"colab\"：{\"name\"： \"Webスクレイピングのテストコード.ipynb\"、 \"provenance\"：[]、 \"collapsed_sections\"：[] 、 \"authorship_tag\"： \"ABX9TyMnvpfJAcUisAETukVQxkXR\"}、 \"kernelspec\"：{\"name\"： \"python3\"、 \"display_name\"： \"Python 3\"}、 \"language_info\"：{\"name\"： \"python\"}}、 \"cells \"：[{\" cell_type \"：\" markdown \"、\" metadata \"：{\" id \"：\" mAkh8gGTRxdK \"}、\" source \"：[\" Webスクレイピングのコード\\ n \"、\" NDSの継続のリンク先を選択する言語 \"]}、{\" cell_type \"：\" code \"、\" metadata \"：{\" id \"：\" YE-0VDVUI_7i \"、\" executionInfo \"：{\" status \"：\" ok \"、\" timestamp \"：1636710267307、 \"user_tz\"：-540、 \"elapsed\"：566、 \"user\"：{\"displayName\"： \"吉永雄大\"、 \"photoUrl\"： \"https://lh3.googleusercontent.com/a-/AOh14GinJEnHe6FxPXTlPOx0cGgEFlMOcuGcHDJnpyE5=s \"、\" userId \"：\" 10474661358112393222 \"}}、\" outputId \"：\" e6bb76be-cc67-4089-ef6d-1997d67cffff \"、\" colab \"：{\" base_uri \"：\" https：// localhost：8080 / \"}}、 \"source\"：[\"＃ソースマルダ\\ n\"、 \"＃コーディング：UTF-8 \\ n\"、 \"from bs4 import BeautifulSoup \\ n\"、 \"import requests \\ n\"、 \"fromgoogle.colabインポートファイル\\ n \"、\" \\ n \"、\"＃このURL \\ n \"、\" url = \\ \"https：//www.nds-w.co.jp/ \\\" \\ n \"、\" \\ n \"、\"＃htmlを確認、BeautifulSoupである\\ n \"、\" r = requests.get（url）\\ n \"、\" soup = BeautifulSoup（r。content、 'html.parser'）＃BeautifulSoupのiPad化\\ n \"、\" \\ n \"、\" print（soup.title.string）\\ n \"、\" \\ n \"、\" tags = soup.find_all（\\ \"a \\ \"）\\ n\"、 \"タグ内のタグの場合：\\ n\"、 \"print（tag.get（\\\" href \\ \"））\"]、 \"execution_count\"：11、 \"outputs\"：[{\"output_type\"： \"stream\"、 \"name\"： \"stdout\"、 \"text\"：[\"NDS日本電算システム株式会社\\ n\"、 \"http://www.nds-w.co.jp/\\n\",\"http： //www.nds-w.co.jp/\\n\",\"inquiry.php\\n\",\"greetings.php\\n\",\"company.php\\n\",\"business.php\\n\",\"re​​sults .php \\ n \"、\" recruit.php \\ n \"、\" partner.php \\ n \"、\" office.php \\ n \"、\" http://www.ckg.ac.jp/ \\ n \"、\" http： //www.ckg.ac.jp/baseball/ \\ n \"、\" / _ common / pdf / ipad.pdf \\ n \"、\" https：//itunes.apple.com/JP/app/id615842031 \\ n \"、\" inquiry.php \\ n \"、\" http://athlete.ahc-net.co.jp/ \\ n \"]}]}]}"
   ]
  }
 ],
 "metadata": {
  "kernelspec": {
   "display_name": "Python 3 (ipykernel)",
   "language": "python",
   "name": "python3"
  },
  "language_info": {
   "codemirror_mode": {
    "name": "ipython",
    "version": 3
   },
   "file_extension": ".py",
   "mimetype": "text/x-python",
   "name": "python",
   "nbconvert_exporter": "python",
   "pygments_lexer": "ipython3",
   "version": "3.9.7"
  }
 },
 "nbformat": 4,
 "nbformat_minor": 5
}
