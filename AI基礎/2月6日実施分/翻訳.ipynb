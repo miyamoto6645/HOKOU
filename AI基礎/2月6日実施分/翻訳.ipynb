{
  "nbformat": 4,
  "nbformat_minor": 0,
  "metadata": {
    "colab": {
      "name": "翻訳.ipynb",
      "provenance": [],
      "collapsed_sections": []
    },
    "kernelspec": {
      "name": "python3",
      "display_name": "Python 3"
    },
    "language_info": {
      "name": "python"
    }
  },
  "cells": [
    {
      "cell_type": "markdown",
      "metadata": {
        "id": "AbkaL7p1ktln"
      },
      "source": [
        "Googletransは、google翻訳のAPIを使うためのpythonライブラリです。Google colaboratoryの場合、以下のコードでインストールできます。"
      ]
    },
    {
      "cell_type": "code",
      "metadata": {
        "id": "_Z_VZ1K9hmSY"
      },
      "source": [
        "!pip install googletrans==4.0.0-rc1"
      ],
      "execution_count": null,
      "outputs": []
    },
    {
      "cell_type": "markdown",
      "metadata": {
        "id": "_yf4KDlOkvAu"
      },
      "source": [
        "googletransの使い方\n",
        "\n",
        "日本語を英語に翻訳してみる"
      ]
    },
    {
      "cell_type": "code",
      "metadata": {
        "id": "BrPNunqthszJ"
      },
      "source": [
        "from googletrans import Translator\n",
        "\n",
        "translator = Translator()\n",
        "str = 'こんにちは'\n",
        "print(translator.translate(str, dest='en').text)"
      ],
      "execution_count": null,
      "outputs": []
    },
    {
      "cell_type": "markdown",
      "metadata": {
        "id": "GslIC9_1kveW"
      },
      "source": [
        "destのデフォルトは英語なので dest='en' は略しても問題ないです。"
      ]
    },
    {
      "cell_type": "code",
      "metadata": {
        "colab": {
          "base_uri": "https://localhost:8080/"
        },
        "id": "SYkRbr5Clwl9",
        "outputId": "84c6e83d-52ef-419d-ab0c-9309d683c9b3"
      },
      "source": [
        "from googletrans import Translator\n",
        "\n",
        "translator = Translator()\n",
        "str = 'こんにちは'\n",
        "print(translator.translate(str).text)"
      ],
      "execution_count": null,
      "outputs": [
        {
          "output_type": "stream",
          "name": "stdout",
          "text": [
            "Hello\n"
          ]
        }
      ]
    },
    {
      "cell_type": "markdown",
      "metadata": {
        "id": "ofOR5lsgluwO"
      },
      "source": [
        "目的から逸れますが、destを変更することで、他の言語への翻訳が可能です。"
      ]
    },
    {
      "cell_type": "code",
      "metadata": {
        "id": "Tn6zqiemiArO"
      },
      "source": [
        "print(translator.translate(str, dest='fr').text)"
      ],
      "execution_count": null,
      "outputs": []
    },
    {
      "cell_type": "markdown",
      "metadata": {
        "id": "4Y2Ja66kkwCu"
      },
      "source": [
        "**日本語カラムから英語カラムへ変換**"
      ]
    },
    {
      "cell_type": "markdown",
      "metadata": {
        "id": "8K7zw9jol5q9"
      },
      "source": [
        "日本語から英語カラムに変換していきます。まずはデータフレームの準備です。"
      ]
    },
    {
      "cell_type": "code",
      "metadata": {
        "id": "l0XRdcx-iGr2"
      },
      "source": [
        "import pandas as pd\n",
        "import numpy as np\n",
        "\n",
        "df = pd.DataFrame(np.arange(25).reshape(5, 5),\n",
        "                  columns=['顧客ID', '店舗ID', '個数', '価格', '店舗面積'])\n",
        "df.head()"
      ],
      "execution_count": null,
      "outputs": []
    },
    {
      "cell_type": "markdown",
      "metadata": {
        "id": "8XBsCzbbkwzW"
      },
      "source": [
        "データフレームの準備ができました。日本語カラムだと、lightGBMで訓練する際にエラーが出るなど厄介です。英語に変換していきましょう。"
      ]
    },
    {
      "cell_type": "code",
      "metadata": {
        "id": "3tPOsG54iJXe"
      },
      "source": [
        "eng_columns = {}\n",
        "columns = df.columns\n",
        "translator = Translator()\n",
        "\n",
        "for column in columns:\n",
        "    eng_columns[column] = translator.translate(column).text\n",
        "\n",
        "print(eng_columns)"
      ],
      "execution_count": null,
      "outputs": []
    },
    {
      "cell_type": "markdown",
      "metadata": {
        "id": "v9PHYo7glYle"
      },
      "source": [
        "無事に英語に変換できました。しかしこのままだと、空白が入っており煩わしいです。\n",
        "空白をアンダーバーに変換するコードを実装します。\n",
        "\n",
        "実際に表の項目名を英語に変換します"
      ]
    },
    {
      "cell_type": "code",
      "metadata": {
        "id": "dwCnLL0oiRmG"
      },
      "source": [
        "eng_columns = {}\n",
        "columns = df.columns\n",
        "translator = Translator()\n",
        "\n",
        "for column in columns:\n",
        "    eng_column = translator.translate(column).text\n",
        "    eng_column = eng_column.replace(' ', '_')\n",
        "    eng_columns[column] = eng_column\n",
        "    \n",
        "df.head()"
      ],
      "execution_count": null,
      "outputs": []
    }
  ]
}