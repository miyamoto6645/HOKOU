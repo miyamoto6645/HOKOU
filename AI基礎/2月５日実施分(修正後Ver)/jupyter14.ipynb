{
 "cells": [
  {
   "cell_type": "code",
   "execution_count": null,
   "id": "0cf56d2c",
   "metadata": {},
   "outputs": [],
   "source": [
    "{\"nbformat\"：4、 \"nbformat_minor\"：0、 \"metadata\"：{\"colab\"：{\"name\"： \"APIのリリース.ipynb\"、 \"provenance\"：[]、 \"collapsed_sections\"：[]、 \" authorship_tag \"：\" ABX9TyNfxFM33wJsBQ13ww7IBxQ4 \"}、\" kernelspec \"：{\" name \"：\" python3 \"、\" display_name \"：\" Python 3 \"}、\" language_info \"：{\" name \"：\" python \"}}、\" cells \"： [{\"cell_type\"： \"markdown\"、 \"metadata\"：{\"id\"： \"3wFs9zzOw-gt\"}、 \"source\"：[\"APIの振り返り\"]}、{\"cell_type\"： \"markdown\"、 \"metadata \"：{\" id \"：\" CfYBUL-KwQqp \"}、\" source \"：[\" pythonの機能性を拡張する、これ、に、ようしたもの \"]}、{\" cell_type \"：\" markdown \"、\" metadata \"：{\" id \"： \"k427mRmHwEfR\"}、 \"source\"：[\"APIの選択\"]}、{\"cell_type\"： \"markdown\"、 \"metadata\"：{\"id\"： \"Xf-aXGD26AQn\"}、 \"source\"：[\"裂分類 \"]}、{\" cell_type \"：\" markdown \"、\" metadata \"：{\" id \"：\" BlPHiVcCwKRV \"}、\" source \"：[\"・tensorflowは\\ n \"、\" \\ n \"、\"→学習用のパパ\\ n \"、\" \\ n \"、\"・matplotlib.pyplot \\ n \"、\" \\ n \"、\"→グラフ（画像）を表示する\\ n \"、\" \\ n \"、\"・numpy \\ n \"、\" \\ n \"、\"→くれやピース計算をしてここでててす\\ n \"、\" \\ n \"、\"・keras \\ n \"、\" \\ n \"、\"→深層学習数ワーク、しの深層取得フレームワークよりフェッチされた\\ n \"、\" \\ n \"、\"・cv2 \\ n \"、\" \\ n \"、\"→画像や思いする処理\\ n \"]}、{\" cell_type \"：\" markdown \"、 \"metadata\"：{\"id\"： \"AS3nHX036Ird \"}、\" source \"：[\" Webスクレイピング \"]}、{\" cell_type \"：\" markdown \"、\" metadata \"：{\" id \"：\" vd0KgCDK5-aL \"}、\" source \"：[\"・BeautifulSoup \\ n \"、\" \\ n \"、\"→HTMLやXMLからのデータ化メタデータ\\ n \"、\" \\ n \"、\"・requests \\ n \"、\" \\ n \"、\"→REST \"]}、{\" cell_type \"：\" markdown \"、\" metadata \"：{\" id \"：\" iVYHLMre6g5a \"}、\" source \"：[\"反転のダウンロード \"]}、{\" cell_type \"：\" markdown \"、 \"metadata\"：{\"id\"： \"F2SUJsOo6hkq\"}、 \"source\"：[\"・os \\ n\"、 \"\\ n\"、 \"→OSに依存しされる\\ n \"、\"・csv \\ n \"、\" \\ n \"、\"→CSVメタデータ\\ n \"、\" \\ n \"、\"・numpy \\ n \"、\" \\ n \"、\"→方やピース計算をするで最適でき\\ n \"、\" \\ n \"、\"・logging \\ n \"、\" \\ n \"、\"→ログコメント\\ n \"、\" \\ n \"、\"・logging.handlers \\ n \"、\" \\ n \"、\"→階乗の先をする\\ n \"、\" \\ n \"、\"・math \\ n \"、\" \\ n \"、\"→計算計算の関数\\ ​​n \"、\" \\ n \"、\"・sys \\ n \"、\" \\ n \"、\"→数学プリタや実行適用情報計算\\ n \"、\" \\ n \"、\"・ランダム\\ n \"、\" \\ n \"、\"→生成\\ n \"、\" \\ n \"、\"・skvideo.io \\ n \"、\" \\ n \"、\"→鐘ファイルのダウンロード・計算をする\\ n \"、\" \\ n \"、\"・cv2 \\ n \"、 \"\\ n\"、 \"→芝や張を処理する\\ n\"、 \"\\ n\"、 \"・matplotlib.pyplot \\ n\"、 \"\\ n\"、 \"→グラフ（画像）を表示する\\ n\"、 \" \\ n \"、\"・IPython.display \\ n \"、\" \\ n \"、\"→画像や張りの表示\\ n \"、\" \\ n \"、\"・base64 \\ n \"、\" \\ n \"、\"→base64できます\\ n \"、\"\\ n\"、 \"・google.colab \\ n\"、 \"\\ n\"、 \"→googlecolabの機能\\ n\"]}、{\"cell_type\"： \"markdown\"、 \"metadata\"：{\"id\"： \" L2JSVtvCqm4I \"}、\" source \"：[\"シン分析 \"]}、{\" cell_type \"：\" markdown \"、\" metadata \"：{\" id \"：\" OLFwC4ElqtxJ \"}、\" source \"：[\"・oseti \\ n \" 、 \"\\ n\"、 \"→日本語評価極いを利用した文章のネガポジ激\"]}、{\"cell_type\"： \"markdown\"、 \"metadata\"：{\"id\"： \"wCbPa0qFqqB3\"}、 \"source\" ：[\"IMDB功消費感情分類\"]}、{\"cell_type\"： \"markdown\"、 \"metadata\"：{\"id\"： \"P68gHyfuquiV\"}、 \"source\"：[\"・keras \\ n\"、 \"\\ n \"、\"→深層学習フレームワーク、プラチナの深層学習フレーム測定スキャン\\ n \"、\" \\ n \"、\"・numpy \\ n \"、\"\\ n \"、\"→くれやピース計算をせでありてけ\\ n \"、\" \\ n \"、\"・matplotlib.pyplot \\ n \"、\" \\ n \"、\"→グラフ（画像）を表示してます \"] }、{\"cell_type\"： \"markdown\"、 \"metadata\"：{\"id\"： \"xT9JEd3OqunL\"}、 \"source\"：[\"音声認識\"]}、{\"cell_type\"： \"markdown\"、 \"metadata\"： {\"id\"： \"bIIHtqHyqxCD\"}、 \"source\"：[\"・google.colab \\ n\"、 \"\\ n\"、 \"→googlecolabの機能\\ n\"、 \"\\ n\"、 \"・speech_recognition \\ n\" 、 \"\\ n\"、 \"→音声認識を\"]}、{\"cell_type\"： \"markdown\"、 \"metadata\"：{\"id\"： \"Tup_X_jSqxGN\"}、 \"source\"：[\"音声分割\"]} 、{\"cell_type\"： \"markdown\"、 \"metadata\"：{\"id\"： \"-EH7nW2yq7Hw\"}、 \"source\"：[\"・ffmpeg \\ n \"、\" \\ n \"、\"→ビデオとレコードの変換\\ n \"、\" \\ n \"、\"・spleeter \\ n \"、\" \\ n \"、\"→メタデータ分離\\ n \"、\" \\ n \"、\"・IPython.display \\ n \"、\" \\ n \"、\"→画像やけんの表示 \"]}、{\" cell_type \"：\" markdown \"、\" metadata \"：{\" id \"：\" _ X4yiBSAtMI5 \"} 、 \"source\"：[\"翻訳\"]}、{\"cell_type\"： \"markdown\"、 \"metadata\"：{\"id\"： \"yHWurAVatMMA\"}、 \"source\"：[\"・googletrans \\ n\"、 \"\\ n \"、\"→googleレビュー\\ n \"、\" \\ n \"、\"・pandas \\ n \"、\" \\ n \"、\"→メタデータを取得\\ n \"、\" \\ n \"、\"・numpy \\ n \"、\" \\ n \"、\"→！アヤメの分類 \"]}、{\" cell_type \"：\" markdown \"、\" metadata \"：{\" id \"：\" hTXU5-UctMe5 \"}、\" source \"：[\"・numpy \\ n \"、\" \\ n \"、\" →方やピース計算をするで最適でき\\ n \"、\" \\ n \"、\"・パンダ\\ n \"、\" \\ n \"、\"→データ分析をした\\ n \"、\" \\ n \"、\"・matplotlib \\ n \"、\" \\ n \"、\"→グラフボタン\\ n \"、\" \\ n \"、\"・matplotlib.pyplot \\ n \"、\" \\ n \"、\"→グラフ（データ）を表示する\\ n \"、\" \\ n \"、\"・warnings \\ n \"、\" \\ n \"、\"→ダウンロードの管理\\ n \"、\" \\ n \"、\"・sklearn \\ n \"、\" \\ n \"、\"→今なから、 、ベクトルアルゴリズム \"]}、{\" cell_type \"：\" markdown \"、\" metadata \"：{\" id \"：\" 1XsQaDthtMnk \"}、\" source \"：[\"可視化 \"]}、{\" cell_type \"：\" markdown \"、 \"metadata\"：{\"id\"： \"fAXfuVbQtMqn\"}、 \"source\"：[\"・altair \\ n\"、 \"\\ n\"、 \"→データ可視化\\ n\"、 \"\\ n\"、 \"・vega_datasets \\ n\"、 \"\\ n\"、 \"→データセット\\ n \"、\" \\ n \"、\"・matplotlib.pyplot \\ n \"、\" \\ n \"、\"→グラフ（画像）を表示する \"]}]}"
   ]
  }
 ],
 "metadata": {
  "kernelspec": {
   "display_name": "Python 3 (ipykernel)",
   "language": "python",
   "name": "python3"
  },
  "language_info": {
   "codemirror_mode": {
    "name": "ipython",
    "version": 3
   },
   "file_extension": ".py",
   "mimetype": "text/x-python",
   "name": "python",
   "nbconvert_exporter": "python",
   "pygments_lexer": "ipython3",
   "version": "3.9.7"
  }
 },
 "nbformat": 4,
 "nbformat_minor": 5
}
